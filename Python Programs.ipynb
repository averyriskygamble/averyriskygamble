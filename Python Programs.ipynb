{
  "nbformat": 4,
  "nbformat_minor": 0,
  "metadata": {
    "colab": {
      "provenance": [],
      "authorship_tag": "ABX9TyN7u56r2a/X4ATEY7VJFOyK",
      "include_colab_link": true
    },
    "kernelspec": {
      "name": "python3",
      "display_name": "Python 3"
    },
    "language_info": {
      "name": "python"
    }
  },
  "cells": [
    {
      "cell_type": "markdown",
      "metadata": {
        "id": "view-in-github",
        "colab_type": "text"
      },
      "source": [
        "<a href=\"https://colab.research.google.com/github/averyriskygamble/averyriskygamble/blob/main/Python%20Programs.ipynb\" target=\"_parent\"><img src=\"https://colab.research.google.com/assets/colab-badge.svg\" alt=\"Open In Colab\"/></a>"
      ]
    },
    {
      "cell_type": "code",
      "execution_count": null,
      "metadata": {
        "colab": {
          "base_uri": "https://localhost:8080/"
        },
        "id": "2R1Y3J-p7It8",
        "outputId": "13ed0117-f284-4f7f-adbf-312f91530856"
      },
      "outputs": [
        {
          "output_type": "stream",
          "name": "stdout",
          "text": [
            "Hello World!\n"
          ]
        }
      ],
      "source": [
        "print(\"Hello World!\")"
      ]
    },
    {
      "cell_type": "code",
      "source": [
        "for i in range(0,6):\n",
        "       print(\"12345\")"
      ],
      "metadata": {
        "colab": {
          "base_uri": "https://localhost:8080/"
        },
        "id": "0DgkDmXu7ZAV",
        "outputId": "1891431d-c326-4489-e694-8b54b7506816"
      },
      "execution_count": null,
      "outputs": [
        {
          "output_type": "stream",
          "name": "stdout",
          "text": [
            "12345\n",
            "12345\n",
            "12345\n",
            "12345\n",
            "12345\n",
            "12345\n"
          ]
        }
      ]
    },
    {
      "cell_type": "code",
      "source": [
        "n = 6\n",
        "for i in range(0,6):\n",
        "    for j in range(n,6):\n",
        "      print(j, end=\"\")\n",
        "    print()\n",
        "    n=n-1"
      ],
      "metadata": {
        "colab": {
          "base_uri": "https://localhost:8080/"
        },
        "id": "_XpL0LBZ26a6",
        "outputId": "5ccf4375-90b0-46e0-df83-e7ab346ba2d0"
      },
      "execution_count": null,
      "outputs": [
        {
          "output_type": "stream",
          "name": "stdout",
          "text": [
            "\n",
            "5\n",
            "45\n",
            "345\n",
            "2345\n",
            "12345\n"
          ]
        }
      ]
    },
    {
      "cell_type": "code",
      "source": [
        "#To check the number of times enetered substring occurs in entered string.\n",
        "s = input(\"Enter a string.\")\n",
        "s1 = input(\"Enter another string.\")\n",
        "c = 0\n",
        "for i in range(0,len(s)-len(s1)+1):\n",
        "  s2 = s[i:i+len(s1)]\n",
        "  if s2 == s1:\n",
        "    c = c+1\n",
        "print(c)"
      ],
      "metadata": {
        "colab": {
          "base_uri": "https://localhost:8080/"
        },
        "id": "mpdbfZYV4HCA",
        "outputId": "8ac6c15f-1251-4a56-ef75-4fa462e14c3c"
      },
      "execution_count": null,
      "outputs": [
        {
          "output_type": "stream",
          "name": "stdout",
          "text": [
            "Enter a string.cause pretty isnt pretty enough\n",
            "Enter another string.pretty\n",
            "2\n"
          ]
        }
      ]
    }
  ]
}